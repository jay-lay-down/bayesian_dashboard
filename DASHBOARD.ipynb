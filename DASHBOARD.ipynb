{
  "nbformat": 4,
  "nbformat_minor": 0,
  "metadata": {
    "colab": {
      "provenance": [],
      "authorship_tag": "ABX9TyMVz+GhVwt3At6nEbRVYcOT",
      "include_colab_link": true
    },
    "kernelspec": {
      "name": "python3",
      "display_name": "Python 3"
    },
    "language_info": {
      "name": "python"
    }
  },
  "cells": [
    {
      "cell_type": "markdown",
      "metadata": {
        "id": "view-in-github",
        "colab_type": "text"
      },
      "source": [
        "<a href=\"https://colab.research.google.com/github/jay-lay-down/bayesian_dashboard/blob/main/DASHBOARD.ipynb\" target=\"_parent\"><img src=\"https://colab.research.google.com/assets/colab-badge.svg\" alt=\"Open In Colab\"/></a>"
      ]
    },
    {
      "cell_type": "code",
      "execution_count": null,
      "metadata": {
        "colab": {
          "base_uri": "https://localhost:8080/",
          "height": 35
        },
        "id": "p9XYGFuacS9Z",
        "outputId": "e7d35546-f467-4872-ba64-cefb2d720896"
      },
      "outputs": [
        {
          "output_type": "stream",
          "name": "stdout",
          "text": [
            "✅ dash: 2.18.2 | plotly: 5.24.1\n"
          ]
        }
      ],
      "source": [
        "# 0) 필요한 패키지 설치\n",
        "import subprocess, sys, time, os\n",
        "subprocess.run(\n",
        "    [sys.executable, \"-m\", \"pip\", \"install\", \"-q\", \"--upgrade\",\n",
        "     \"dash>=2.11,<3\", \"plotly>=5.15,<6\", \"openpyxl\", \"xlrd\"],\n",
        "    check=True\n",
        ")\n",
        "import dash, plotly\n",
        "print(\"✅ dash:\", dash.__version__, \"| plotly:\", plotly.__version__)"
      ]
    },
    {
      "cell_type": "code",
      "source": [
        "# 1) 드라이브 마운트(이미 되어 있으면 건너뜀)\n",
        "try:\n",
        "    from google.colab import drive\n",
        "    drive.mount('/content/drive', force_remount=False)\n",
        "except Exception as e:\n",
        "    print(\"drive mount skip:\", e)\n"
      ],
      "metadata": {
        "colab": {
          "base_uri": "https://localhost:8080/"
        },
        "id": "H4w__lhDcX9c",
        "outputId": "9045a8cc-e79f-4c92-e0d3-d9996905d042"
      },
      "execution_count": null,
      "outputs": [
        {
          "output_type": "stream",
          "name": "stdout",
          "text": [
            "Mounted at /content/drive\n"
          ]
        }
      ]
    },
    {
      "cell_type": "code",
      "source": [
        "import sys\n",
        "from google.colab import drive, output\n",
        "import threading\n",
        "\n",
        "# --- 1. 환경 설정 (Drive 마운트 및 경로 추가) ---\n",
        "drive.mount('/content/drive', force_remount=True)\n",
        "\n",
        "PROJECT_DIR = '/content/drive/MyDrive/baye_dash'\n",
        "if PROJECT_DIR not in sys.path:\n",
        "    sys.path.append(PROJECT_DIR)\n",
        "\n",
        "# --- 2. test_app을 백그라운드에서 실행 ---\n",
        "from app import app\n",
        "\n",
        "PORT_NUMBER = 8060\n",
        "\n",
        "def run_test_server():\n",
        "  # Colab에서는 reloader를 False로 해야 안정적입니다.\n",
        "  app.run_server(host=\"0.0.0.0\", port=PORT_NUMBER, debug=False, use_reloader=False)\n",
        "\n",
        "# 백그라운드 스레드에서 서버 시작\n",
        "threading.Thread(target=run_test_server, daemon=True).start()\n",
        "\n",
        "# --- 3. Colab 전용 공용 URL 생성 및 출력 ---\n",
        "print(\"✅ 테스트 서버가 백그라운드에서 시작되었습니다.\")\n",
        "print(\"잠시 후 공개 URL이 생성됩니다...\")\n",
        "public_url = output.eval_js(f\"google.colab.kernel.proxyPort({PORT_NUMBER})\")\n",
        "print(f\"🎉 테스트 앱 URL: {public_url}\")"
      ],
      "metadata": {
        "id": "JEuKlfwpNrnj"
      },
      "execution_count": null,
      "outputs": []
    }
  ]
}